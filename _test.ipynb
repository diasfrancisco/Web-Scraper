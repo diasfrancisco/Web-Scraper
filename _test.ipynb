{
 "cells": [
  {
   "cell_type": "code",
   "execution_count": null,
   "metadata": {},
   "outputs": [],
   "source": [
    "from selenium import webdriver\n",
    "\n",
    "browser = webdriver.Chrome()\n",
    "url = \"https://www.webtoons.com/en/romance/letsplay/ep-168/viewer?title_no=1218&episode_no=176\""
   ]
  },
  {
   "cell_type": "code",
   "execution_count": null,
   "metadata": {},
   "outputs": [],
   "source": [
    "url = \"https://www.webtoons.com/en/romance/letsplay/ep-168/viewer?title_no=1218&episode_no=176\"\n",
    "split_url = url.split(\"/\")[5]\n",
    "print(split_url)"
   ]
  },
  {
   "cell_type": "code",
   "execution_count": null,
   "metadata": {},
   "outputs": [],
   "source": [
    "import json\n",
    "import os\n",
    "\n",
    "if os.path.isfile('test_file.json'):\n",
    "    pass\n",
    "else:\n",
    "    with open('test_file.json', 'w') as f:\n",
    "        json.dump([], f)\n",
    "        f.close()\n",
    "\n",
    "with open('test_file.json', 'r') as f:\n",
    "    data = json.load(f)\n",
    "    print(type(data))\n",
    "\n",
    "data.append('old')\n",
    "\n",
    "with open('test_file.json', 'w') as f:\n",
    "    json.dump(data, f)"
   ]
  },
  {
   "cell_type": "code",
   "execution_count": null,
   "metadata": {},
   "outputs": [],
   "source": [
    "str1 = '/home/cisco/GitLocal/Web-Scraper/raw_data/genres_and_webtoon_urls'\n",
    "print(str1 + '/genres.py')"
   ]
  },
  {
   "cell_type": "code",
   "execution_count": null,
   "metadata": {},
   "outputs": [],
   "source": [
    "import json\n",
    "import os\n",
    "\n",
    "genres = [\"DRAMA\", \"FANTASY\", \"SCI-FI\"]\n",
    "gen1 = genres[0]\n",
    "\n",
    "animals = [\"Dog\", \"Cat\", \"Mouse\"]\n",
    "\n",
    "\n",
    "if os.path.isfile('webtoon_urls.json'):\n",
    "    pass\n",
    "else:\n",
    "    with open('webtoon_urls.json', 'w') as f:\n",
    "        json.dump({}, f)\n",
    "\n",
    "with open('webtoon_urls.json', 'r') as f:\n",
    "    dict_of_wbt_links = json.load(f)\n",
    "\n",
    "with open('webtoon_urls.json', 'w') as f:\n",
    "    try:\n",
    "        genre_links = dict_of_wbt_links[gen1]\n",
    "        pass\n",
    "    except KeyError:\n",
    "        print(f'Current links = Empty')\n",
    "        dict_of_wbt_links[gen1] = []\n",
    "    \n",
    "    json.dump(dict_of_wbt_links, f)\n",
    "    \n",
    "    print(f'Links = {genre_links}')\n",
    "\n",
    "    # for animal in animals:\n",
    "    #     if animal in genre_links:\n",
    "    #         continue\n",
    "    #     else:\n",
    "    #         genre_links.append(animal)\n",
    "\n"
   ]
  },
  {
   "cell_type": "code",
   "execution_count": 1,
   "metadata": {},
   "outputs": [
    {
     "name": "stdout",
     "output_type": "stream",
     "text": [
      "DRAMA | 257\n",
      "FANTASY | 273\n",
      "COMEDY | 139\n",
      "ACTION | 173\n",
      "SLICE_OF_LIFE | 94\n",
      "ROMANCE | 224\n",
      "SUPER_HERO | 37\n",
      "SF | 62\n",
      "THRILLER | 98\n",
      "SUPERNATURAL | 72\n",
      "MYSTERY | 30\n",
      "SPORTS | 15\n",
      "HISTORICAL | 12\n",
      "HEARTWARMING | 34\n",
      "HORROR | 37\n",
      "TIPTOON | 8\n"
     ]
    }
   ],
   "source": [
    "import json\n",
    "\n",
    "with open('raw_data/genres_and_webtoon_urls/webtoon_urls.json', 'r') as f:\n",
    "    maindict = json.load(f)\n",
    "\n",
    "for key, value in maindict.items():\n",
    "    print(f'{key} | {len(value)}')"
   ]
  }
 ],
 "metadata": {
  "kernelspec": {
   "display_name": "Python 3.10.4 ('web_scraper')",
   "language": "python",
   "name": "python3"
  },
  "language_info": {
   "codemirror_mode": {
    "name": "ipython",
    "version": 3
   },
   "file_extension": ".py",
   "mimetype": "text/x-python",
   "name": "python",
   "nbconvert_exporter": "python",
   "pygments_lexer": "ipython3",
   "version": "3.10.4"
  },
  "orig_nbformat": 4,
  "vscode": {
   "interpreter": {
    "hash": "e3b33da64923e0e5f4beadfbdb10e72fca4d21754a56fb4989d99e15b229c545"
   }
  }
 },
 "nbformat": 4,
 "nbformat_minor": 2
}
