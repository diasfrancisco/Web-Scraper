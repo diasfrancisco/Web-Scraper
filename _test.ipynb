{
 "cells": [
  {
   "cell_type": "code",
   "execution_count": null,
   "metadata": {},
   "outputs": [],
   "source": [
    "from selenium import webdriver\n",
    "\n",
    "browser = webdriver.Chrome()\n",
    "url = \"https://www.webtoons.com/en/romance/letsplay/ep-168/viewer?title_no=1218&episode_no=176\""
   ]
  }
 ],
 "metadata": {
  "kernelspec": {
   "display_name": "Python 3.10.4 ('web_scraper')",
   "language": "python",
   "name": "python3"
  },
  "language_info": {
   "name": "python",
   "version": "3.10.4"
  },
  "orig_nbformat": 4,
  "vscode": {
   "interpreter": {
    "hash": "e3b33da64923e0e5f4beadfbdb10e72fca4d21754a56fb4989d99e15b229c545"
   }
  }
 },
 "nbformat": 4,
 "nbformat_minor": 2
}
