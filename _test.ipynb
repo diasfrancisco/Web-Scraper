{
 "cells": [
  {
   "cell_type": "markdown",
   "metadata": {},
   "source": [
    "#--------------------------------------------\n",
    "# Testing saving IDs to dicts and exporting them locally"
   ]
  },
  {
   "cell_type": "code",
   "execution_count": null,
   "metadata": {},
   "outputs": [],
   "source": [
    "import nums_from_string\n",
    "import json\n",
    "str1 = \"title no=1245, 455.ff3333\""
   ]
  },
  {
   "cell_type": "code",
   "execution_count": null,
   "metadata": {},
   "outputs": [],
   "source": [
    "digits1 = nums_from_string.get_nums(str1)\n",
    "print(digits1)"
   ]
  },
  {
   "cell_type": "code",
   "execution_count": null,
   "metadata": {},
   "outputs": [],
   "source": [
    "with open('ID_dict.json', 'r') as f:\n",
    "    data = json.load(f)\n",
    "\n",
    "for key, value in data.items():\n",
    "    print(value[0])\n",
    "    print(type(value[0]))"
   ]
  },
  {
   "cell_type": "markdown",
   "metadata": {},
   "source": [
    "#----------------------------------------------\n",
    "# Testing the opening of a new tab"
   ]
  },
  {
   "cell_type": "code",
   "execution_count": 2,
   "metadata": {},
   "outputs": [
    {
     "ename": "InvalidSelectorException",
     "evalue": "Message: invalid selector: Unable to locate an element with the xpath expression //*div[@class=\"paginate\"] because of the following error:\nSyntaxError: Failed to execute 'evaluate' on 'Document': The string '//*div[@class=\"paginate\"]' is not a valid XPath expression.\n  (Session info: chrome=102.0.5005.115)\nStacktrace:\n#0 0x55d834819f33 <unknown>\n#1 0x55d834564118 <unknown>\n#2 0x55d834566f97 <unknown>\n#3 0x55d834566e3b <unknown>\n#4 0x55d8345670fc <unknown>\n#5 0x55d83459a11e <unknown>\n#6 0x55d83459a5c1 <unknown>\n#7 0x55d8345cd5c4 <unknown>\n#8 0x55d8345b7f9d <unknown>\n#9 0x55d8345cb2e4 <unknown>\n#10 0x55d8345b7e63 <unknown>\n#11 0x55d83458d82a <unknown>\n#12 0x55d83458e985 <unknown>\n#13 0x55d83485e4cd <unknown>\n#14 0x55d8348625ec <unknown>\n#15 0x55d83484871e <unknown>\n#16 0x55d834863238 <unknown>\n#17 0x55d83483d870 <unknown>\n#18 0x55d83487f608 <unknown>\n#19 0x55d83487f788 <unknown>\n#20 0x55d834899f1d <unknown>\n#21 0x7f2992ce5b43 <unknown>\n",
     "output_type": "error",
     "traceback": [
      "\u001b[0;31m---------------------------------------------------------------------------\u001b[0m",
      "\u001b[0;31mInvalidSelectorException\u001b[0m                  Traceback (most recent call last)",
      "\u001b[1;32m/home/diasfrancisco/GitLocal/Web-Scraper/_test.ipynb Cell 6'\u001b[0m in \u001b[0;36m<cell line: 11>\u001b[0;34m()\u001b[0m\n\u001b[1;32m      <a href='vscode-notebook-cell:/home/diasfrancisco/GitLocal/Web-Scraper/_test.ipynb#ch0000005?line=8'>9</a>\u001b[0m driver\u001b[39m.\u001b[39mexecute_script(\u001b[39mf\u001b[39m\u001b[39m'''\u001b[39m\u001b[39mwindow.open(\u001b[39m\u001b[39m\"\u001b[39m\u001b[39mhttps://www.webtoons.com/en/romance/truebeauty/list?title_no=1436\u001b[39m\u001b[39m\"\u001b[39m\u001b[39m, \u001b[39m\u001b[39m\"\u001b[39m\u001b[39m_blank\u001b[39m\u001b[39m\"\u001b[39m\u001b[39m);\u001b[39m\u001b[39m'''\u001b[39m)\n\u001b[1;32m     <a href='vscode-notebook-cell:/home/diasfrancisco/GitLocal/Web-Scraper/_test.ipynb#ch0000005?line=9'>10</a>\u001b[0m time\u001b[39m.\u001b[39msleep(\u001b[39m5\u001b[39m)\n\u001b[0;32m---> <a href='vscode-notebook-cell:/home/diasfrancisco/GitLocal/Web-Scraper/_test.ipynb#ch0000005?line=10'>11</a>\u001b[0m navigation_container \u001b[39m=\u001b[39m driver\u001b[39m.\u001b[39;49mfind_element(By\u001b[39m.\u001b[39;49mXPATH, \u001b[39m'\u001b[39;49m\u001b[39m//*div[@class=\u001b[39;49m\u001b[39m\"\u001b[39;49m\u001b[39mpaginate\u001b[39;49m\u001b[39m\"\u001b[39;49m\u001b[39m]\u001b[39;49m\u001b[39m'\u001b[39;49m)\n\u001b[1;32m     <a href='vscode-notebook-cell:/home/diasfrancisco/GitLocal/Web-Scraper/_test.ipynb#ch0000005?line=11'>12</a>\u001b[0m current_pages \u001b[39m=\u001b[39m navigation_container\u001b[39m.\u001b[39mfind_elements(By\u001b[39m.\u001b[39mTAG_NAME, \u001b[39m'\u001b[39m\u001b[39ma\u001b[39m\u001b[39m'\u001b[39m)\n\u001b[1;32m     <a href='vscode-notebook-cell:/home/diasfrancisco/GitLocal/Web-Scraper/_test.ipynb#ch0000005?line=12'>13</a>\u001b[0m all_page_links \u001b[39m=\u001b[39m []\n",
      "File \u001b[0;32m~/miniconda3/envs/web_scraper/lib/python3.10/site-packages/selenium/webdriver/remote/webdriver.py:1251\u001b[0m, in \u001b[0;36mWebDriver.find_element\u001b[0;34m(self, by, value)\u001b[0m\n\u001b[1;32m   1248\u001b[0m     by \u001b[39m=\u001b[39m By\u001b[39m.\u001b[39mCSS_SELECTOR\n\u001b[1;32m   1249\u001b[0m     value \u001b[39m=\u001b[39m \u001b[39m'\u001b[39m\u001b[39m[name=\u001b[39m\u001b[39m\"\u001b[39m\u001b[39m%s\u001b[39;00m\u001b[39m\"\u001b[39m\u001b[39m]\u001b[39m\u001b[39m'\u001b[39m \u001b[39m%\u001b[39m value\n\u001b[0;32m-> 1251\u001b[0m \u001b[39mreturn\u001b[39;00m \u001b[39mself\u001b[39;49m\u001b[39m.\u001b[39;49mexecute(Command\u001b[39m.\u001b[39;49mFIND_ELEMENT, {\n\u001b[1;32m   1252\u001b[0m     \u001b[39m'\u001b[39;49m\u001b[39musing\u001b[39;49m\u001b[39m'\u001b[39;49m: by,\n\u001b[1;32m   1253\u001b[0m     \u001b[39m'\u001b[39;49m\u001b[39mvalue\u001b[39;49m\u001b[39m'\u001b[39;49m: value})[\u001b[39m'\u001b[39m\u001b[39mvalue\u001b[39m\u001b[39m'\u001b[39m]\n",
      "File \u001b[0;32m~/miniconda3/envs/web_scraper/lib/python3.10/site-packages/selenium/webdriver/remote/webdriver.py:430\u001b[0m, in \u001b[0;36mWebDriver.execute\u001b[0;34m(self, driver_command, params)\u001b[0m\n\u001b[1;32m    428\u001b[0m response \u001b[39m=\u001b[39m \u001b[39mself\u001b[39m\u001b[39m.\u001b[39mcommand_executor\u001b[39m.\u001b[39mexecute(driver_command, params)\n\u001b[1;32m    429\u001b[0m \u001b[39mif\u001b[39;00m response:\n\u001b[0;32m--> 430\u001b[0m     \u001b[39mself\u001b[39;49m\u001b[39m.\u001b[39;49merror_handler\u001b[39m.\u001b[39;49mcheck_response(response)\n\u001b[1;32m    431\u001b[0m     response[\u001b[39m'\u001b[39m\u001b[39mvalue\u001b[39m\u001b[39m'\u001b[39m] \u001b[39m=\u001b[39m \u001b[39mself\u001b[39m\u001b[39m.\u001b[39m_unwrap_value(\n\u001b[1;32m    432\u001b[0m         response\u001b[39m.\u001b[39mget(\u001b[39m'\u001b[39m\u001b[39mvalue\u001b[39m\u001b[39m'\u001b[39m, \u001b[39mNone\u001b[39;00m))\n\u001b[1;32m    433\u001b[0m     \u001b[39mreturn\u001b[39;00m response\n",
      "File \u001b[0;32m~/miniconda3/envs/web_scraper/lib/python3.10/site-packages/selenium/webdriver/remote/errorhandler.py:247\u001b[0m, in \u001b[0;36mErrorHandler.check_response\u001b[0;34m(self, response)\u001b[0m\n\u001b[1;32m    245\u001b[0m         alert_text \u001b[39m=\u001b[39m value[\u001b[39m'\u001b[39m\u001b[39malert\u001b[39m\u001b[39m'\u001b[39m]\u001b[39m.\u001b[39mget(\u001b[39m'\u001b[39m\u001b[39mtext\u001b[39m\u001b[39m'\u001b[39m)\n\u001b[1;32m    246\u001b[0m     \u001b[39mraise\u001b[39;00m exception_class(message, screen, stacktrace, alert_text)  \u001b[39m# type: ignore[call-arg]  # mypy is not smart enough here\u001b[39;00m\n\u001b[0;32m--> 247\u001b[0m \u001b[39mraise\u001b[39;00m exception_class(message, screen, stacktrace)\n",
      "\u001b[0;31mInvalidSelectorException\u001b[0m: Message: invalid selector: Unable to locate an element with the xpath expression //*div[@class=\"paginate\"] because of the following error:\nSyntaxError: Failed to execute 'evaluate' on 'Document': The string '//*div[@class=\"paginate\"]' is not a valid XPath expression.\n  (Session info: chrome=102.0.5005.115)\nStacktrace:\n#0 0x55d834819f33 <unknown>\n#1 0x55d834564118 <unknown>\n#2 0x55d834566f97 <unknown>\n#3 0x55d834566e3b <unknown>\n#4 0x55d8345670fc <unknown>\n#5 0x55d83459a11e <unknown>\n#6 0x55d83459a5c1 <unknown>\n#7 0x55d8345cd5c4 <unknown>\n#8 0x55d8345b7f9d <unknown>\n#9 0x55d8345cb2e4 <unknown>\n#10 0x55d8345b7e63 <unknown>\n#11 0x55d83458d82a <unknown>\n#12 0x55d83458e985 <unknown>\n#13 0x55d83485e4cd <unknown>\n#14 0x55d8348625ec <unknown>\n#15 0x55d83484871e <unknown>\n#16 0x55d834863238 <unknown>\n#17 0x55d83483d870 <unknown>\n#18 0x55d83487f608 <unknown>\n#19 0x55d83487f788 <unknown>\n#20 0x55d834899f1d <unknown>\n#21 0x7f2992ce5b43 <unknown>\n"
     ]
    }
   ],
   "source": [
    "import time\n",
    "from selenium import webdriver\n",
    "import webtoon.constants as const\n",
    "from selenium.webdriver.common.by import By\n",
    "\n",
    "driver = webdriver.Chrome()\n",
    "main_url = driver.get(const.BASE_URL)\n",
    "\n",
    "driver.execute_script(f'''window.open(\"https://www.webtoons.com/en/romance/truebeauty/list?title_no=1436\", \"_blank\");''')\n",
    "time.sleep(5)\n",
    "navigation_container = driver.find_element(By.XPATH, '//*div[@class=\"paginate\"]')\n",
    "current_pages = navigation_container.find_elements(By.TAG_NAME, 'a')\n",
    "all_page_links = []\n",
    "for page in current_pages:\n",
    "    if page.get_attribute('href') not in all_page_links:\n",
    "        all_page_links.append(page.get_attribute('href'))\n",
    "    else:\n",
    "        pass\n",
    "\n",
    "print(all_page_links)\n",
    "\n",
    "driver.quit()"
   ]
  }
 ],
 "metadata": {
  "kernelspec": {
   "display_name": "Python 3.10.4 ('web_scraper')",
   "language": "python",
   "name": "python3"
  },
  "language_info": {
   "codemirror_mode": {
    "name": "ipython",
    "version": 3
   },
   "file_extension": ".py",
   "mimetype": "text/x-python",
   "name": "python",
   "nbconvert_exporter": "python",
   "pygments_lexer": "ipython3",
   "version": "3.10.4"
  },
  "orig_nbformat": 4,
  "vscode": {
   "interpreter": {
    "hash": "e2fb3a04cf1c78783e8e26a9bcd33131c7246b5f157d3c3b456abead2a3dfae4"
   }
  }
 },
 "nbformat": 4,
 "nbformat_minor": 2
}
